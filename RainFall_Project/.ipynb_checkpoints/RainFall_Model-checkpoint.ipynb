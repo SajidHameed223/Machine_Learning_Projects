{
 "cells": [
  {
   "cell_type": "markdown",
   "id": "eaea2b56-6efa-4855-97d4-f1105f4eb023",
   "metadata": {},
   "source": [
    "# Import Libraries"
   ]
  },
  {
   "cell_type": "code",
   "execution_count": null,
   "id": "68ca396b-5669-4738-ba9d-f7e3e255df58",
   "metadata": {},
   "outputs": [],
   "source": [
    "import pandas as pd \n",
    "import numpy as np\n",
    "import matplotlib.pyplot as plt \n",
    "import seaborn as sns \n",
    "from sklearn.utils  import resample\n",
    "from sklearn.preprocessing import LabelEncoder\n",
    "from sklearn.model_selection import train_test_split, GridSearchCV, cross_val_score\n",
    "from sklearn.metrics import classification_report, confusion_matrix, accuracy_score\n",
    "from sklearn.ensemble import RandomForestClassifier"
   ]
  },
  {
   "cell_type": "code",
   "execution_count": null,
   "id": "2f98798f-a536-4d1c-a24d-f2aebb0d6402",
   "metadata": {},
   "outputs": [],
   "source": [
    "df = pd.read_csv('Rainfall.csv')"
   ]
  },
  {
   "cell_type": "code",
   "execution_count": null,
   "id": "17a7915d-0825-4c9a-9648-e40d3066241d",
   "metadata": {},
   "outputs": [],
   "source": [
    "df.shape"
   ]
  },
  {
   "cell_type": "code",
   "execution_count": null,
   "id": "cfe29d4e-7ff0-4023-8f05-aa973b48a63d",
   "metadata": {},
   "outputs": [],
   "source": [
    "df.isnull().sum()"
   ]
  },
  {
   "cell_type": "code",
   "execution_count": null,
   "id": "2e026276-daec-4168-b247-f1d3ae11cb8b",
   "metadata": {},
   "outputs": [],
   "source": [
    "df.duplicated().sum()"
   ]
  },
  {
   "cell_type": "code",
   "execution_count": null,
   "id": "647dec82-e8bd-4b42-b3d3-d2e56d77e638",
   "metadata": {},
   "outputs": [],
   "source": [
    "df.sample(5)"
   ]
  },
  {
   "cell_type": "code",
   "execution_count": null,
   "id": "92ec431f-9eae-42d7-88b7-056ca38be10b",
   "metadata": {},
   "outputs": [],
   "source": [
    "df.corr(numeric_only = True)"
   ]
  },
  {
   "cell_type": "code",
   "execution_count": null,
   "id": "3dea0a7a-443d-4700-bacb-bf00f4112aa4",
   "metadata": {},
   "outputs": [],
   "source": [
    "df.describe()"
   ]
  },
  {
   "cell_type": "code",
   "execution_count": null,
   "id": "d605b7de-9a93-456f-987b-e09ac38ab609",
   "metadata": {},
   "outputs": [],
   "source": [
    "df.columns = df.columns.str.strip()"
   ]
  },
  {
   "cell_type": "code",
   "execution_count": null,
   "id": "862219b5-c558-434f-a573-01e22b3c7b1b",
   "metadata": {},
   "outputs": [],
   "source": [
    "# create figure, size depends on number of columns\n",
    "n_cols = 3  # how many plots per row\n",
    "n_features = len(df.columns)\n",
    "n_rows = (n_features + n_cols - 1) // n_cols  # number of rows needed\n",
    "\n",
    "plt.figure(figsize=(15, 5 * n_rows))\n",
    "\n",
    "for i, column in enumerate(df.columns, 1):  # loop through ALL columns\n",
    "    plt.subplot(n_rows, n_cols, i)\n",
    "    sns.histplot(df[column], kde=True)\n",
    "    plt.title(f\"Distribution of {column}\")\n",
    "\n",
    "plt.tight_layout()\n",
    "plt.show()"
   ]
  },
  {
   "cell_type": "code",
   "execution_count": null,
   "id": "50f3dc15-0332-4763-bf8c-2765e96fa5b1",
   "metadata": {},
   "outputs": [],
   "source": [
    "# Let's Drop the day columns\n",
    "df.drop(columns = ['day'] , axis = 1 , inplace = True)"
   ]
  },
  {
   "cell_type": "code",
   "execution_count": null,
   "id": "1625dadf-9fc6-457c-9f86-8d93adf4c515",
   "metadata": {},
   "outputs": [],
   "source": [
    "plt.figure(figsize = (5,4))\n",
    "sns.countplot(data = df , x = 'rainfall')\n",
    "plt.title('Disturibution of Rain Fall')\n",
    "plt.show()"
   ]
  },
  {
   "cell_type": "code",
   "execution_count": null,
   "id": "bec782c1-eedc-4d4d-91bb-80280fed6217",
   "metadata": {},
   "outputs": [],
   "source": [
    "# correlation matrix\n",
    "plt.figure(figsize=(10, 8))\n",
    "sns.heatmap(df.corr(numeric_only  = True ) , annot = True , cmap = 'coolwarm' , fmt = '.2f')\n",
    "plt.title(\"Correlation heatmap\")\n",
    "plt.show()"
   ]
  },
  {
   "cell_type": "code",
   "execution_count": null,
   "id": "64d8b409-8966-45c9-a6e7-e278da0493e1",
   "metadata": {},
   "outputs": [],
   "source": [
    "n_cols = 3\n",
    "n_features = len(df.columns)\n",
    "n_rows = (n_features + n_cols - 1) // n_cols\n",
    "plt.figure(figsize = (15 , 5 * n_rows))\n",
    "\n",
    "for i , column in enumerate(df.columns ,1 ) :\n",
    "    plt.subplot(n_rows , n_cols , i)\n",
    "    sns.boxplot(df[column])\n",
    "    plt.title(f\"Box Plot of {column}\")\n",
    "\n",
    "plt.tight_layout()\n",
    "plt.show()    "
   ]
  },
  {
   "cell_type": "code",
   "execution_count": null,
   "id": "3c67f5d1-a93b-4950-b6ac-fd306396fd4f",
   "metadata": {},
   "outputs": [],
   "source": [
    "df.drop(columns = ['mintemp' , 'maxtemp' , 'temparature'] , axis = 1 , inplace = True)"
   ]
  },
  {
   "cell_type": "code",
   "execution_count": null,
   "id": "e3fa3925-7f96-4cf5-9628-c79e97667b8e",
   "metadata": {},
   "outputs": [],
   "source": [
    "min_rainfall = df[df['rainfall'] == 'no']\n",
    "max_rainfall = df[df['rainfall'] == 'yes']"
   ]
  },
  {
   "cell_type": "code",
   "execution_count": null,
   "id": "ace51bd6-162a-4e58-87ca-a52be5417b48",
   "metadata": {},
   "outputs": [],
   "source": [
    "# Lets equal the value of yes and no in dataset \n",
    "max_rainfall_resample = resample(max_rainfall , replace = False , n_samples = len(min_rainfall) , random_state = 42)"
   ]
  },
  {
   "cell_type": "code",
   "execution_count": null,
   "id": "53c229a4-dc94-46c2-940e-75d90adb2615",
   "metadata": {},
   "outputs": [],
   "source": [
    "max_rainfall_resample.value_counts().sum()"
   ]
  },
  {
   "cell_type": "code",
   "execution_count": null,
   "id": "1e2da8b9-a728-40d9-9837-15dc5260f90b",
   "metadata": {},
   "outputs": [],
   "source": [
    "new_df = pd.concat([max_rainfall_resample , min_rainfall])"
   ]
  },
  {
   "cell_type": "code",
   "execution_count": null,
   "id": "ba565989-e939-43ad-8995-17f77bc6be84",
   "metadata": {},
   "outputs": [],
   "source": [
    "new_df = new_df.sample(frac = 1, random_state = 42 ).reset_index(drop = True)"
   ]
  },
  {
   "cell_type": "code",
   "execution_count": null,
   "id": "c686d830-db24-4533-9826-5f756b2a5c90",
   "metadata": {},
   "outputs": [],
   "source": [
    "X = df.drop(columns = ['rainfall'])\n",
    "y = df['rainfall']"
   ]
  },
  {
   "cell_type": "code",
   "execution_count": null,
   "id": "e811ff6b-1f8e-44e3-99cf-440dce743524",
   "metadata": {},
   "outputs": [],
   "source": [
    "X.head()"
   ]
  },
  {
   "cell_type": "code",
   "execution_count": null,
   "id": "c5b7ce62-272c-4712-b109-10d8b8013539",
   "metadata": {},
   "outputs": [],
   "source": [
    "# Lets Encode the output by label Encoder \n",
    "le = LabelEncoder()"
   ]
  },
  {
   "cell_type": "code",
   "execution_count": null,
   "id": "02cf4044-2dba-481b-b5dd-64a2ac9070bf",
   "metadata": {},
   "outputs": [],
   "source": [
    "y = le.fit_transform(y)"
   ]
  },
  {
   "cell_type": "code",
   "execution_count": null,
   "id": "0ff0d4d9-84e3-4a0b-b7fa-c9cff74ccef7",
   "metadata": {},
   "outputs": [],
   "source": [
    "X_train , X_test , y_train , y_test = train_test_split(X, y , test_size = 0.2 , random_state = 42)"
   ]
  },
  {
   "cell_type": "code",
   "execution_count": null,
   "id": "006fb79e-b40b-49af-b13e-e039c6d2da90",
   "metadata": {},
   "outputs": [],
   "source": [
    "rf =  RandomForestClassifier()\n",
    "param_grid_rf = {\n",
    "    \"n_estimators\": [50, 100, 200],\n",
    "    \"max_features\": [\"sqrt\", \"log2\"],\n",
    "    \"max_depth\": [None, 10, 20, 30],\n",
    "    \"min_samples_split\": [2, 5, 10],\n",
    "    \"min_samples_leaf\": [1, 2, 4]\n",
    "}"
   ]
  },
  {
   "cell_type": "code",
   "execution_count": null,
   "id": "82a912b6-0fcd-4212-8066-04e59ffcfde4",
   "metadata": {},
   "outputs": [],
   "source": [
    "# Hypertuning using GridSearchCV\n",
    "grid_search_rf = GridSearchCV(estimator=rf, param_grid=param_grid_rf, cv=5, n_jobs=-1, verbose=2)\n",
    "\n",
    "grid_search_rf.fit(X_train, y_train)"
   ]
  },
  {
   "cell_type": "code",
   "execution_count": null,
   "id": "db7ea067-7936-4373-8e03-a29aed76e867",
   "metadata": {},
   "outputs": [],
   "source": [
    "best_rf_model = grid_search_rf.best_estimator_\n"
   ]
  },
  {
   "cell_type": "code",
   "execution_count": null,
   "id": "9a86c972-02f6-41e7-a708-b4ac2ccb319f",
   "metadata": {},
   "outputs": [],
   "source": [
    "cv_scores = cross_val_score(best_rf_model, X_train, y_train, cv=5)\n",
    "print(\"Cross-validation scores:\", cv_scores)\n",
    "print(\"Mean cross-validation score:\", np.mean(cv_scores))"
   ]
  },
  {
   "cell_type": "code",
   "execution_count": null,
   "id": "dd430c8f-8b08-43ec-b720-8d4e238c768a",
   "metadata": {},
   "outputs": [],
   "source": [
    "input_data = (1015.9, 19.9, 95, 81, 0.0, 40.0, 13.7)\n",
    "\n",
    "input_df = pd.DataFrame([input_data], columns=['pressure', 'dewpoint', 'humidity', 'cloud', 'sunshine','winddirection', 'windspeed'])"
   ]
  },
  {
   "cell_type": "code",
   "execution_count": null,
   "id": "91c8a84b-0280-4b0d-9ab5-bf69c7aa83a0",
   "metadata": {},
   "outputs": [],
   "source": [
    "prediction = best_rf_model.predict(input_df)"
   ]
  },
  {
   "cell_type": "code",
   "execution_count": null,
   "id": "3f93b282-1c56-487e-9bfd-564018bd340c",
   "metadata": {},
   "outputs": [],
   "source": [
    "prediction[0]"
   ]
  },
  {
   "cell_type": "code",
   "execution_count": null,
   "id": "cb622ccd-411a-4fc0-9c5a-e0c600f3553c",
   "metadata": {},
   "outputs": [],
   "source": [
    "prediction = best_rf_model.predict(input_df)\n",
    "print(\"Prediction result:\", \"Rainfall\" if prediction[0] == 1 else \"No Rainfall\")"
   ]
  },
  {
   "cell_type": "markdown",
   "id": "14b4e276-da8a-45af-b218-2fed08d0e0ba",
   "metadata": {},
   "source": [
    "# Lets do this with Some Changes"
   ]
  },
  {
   "cell_type": "code",
   "execution_count": 78,
   "id": "debb88f2-2e15-4069-be86-6bceb9c6d475",
   "metadata": {},
   "outputs": [
    {
     "name": "stdout",
     "output_type": "stream",
     "text": [
      "<class 'pandas.core.frame.DataFrame'>\n",
      "RangeIndex: 366 entries, 0 to 365\n",
      "Data columns (total 8 columns):\n",
      " #   Column         Non-Null Count  Dtype  \n",
      "---  ------         --------------  -----  \n",
      " 0   pressure       366 non-null    float64\n",
      " 1   dewpoint       366 non-null    float64\n",
      " 2   humidity       366 non-null    int64  \n",
      " 3   cloud          366 non-null    int64  \n",
      " 4   rainfall       366 non-null    object \n",
      " 5   sunshine       366 non-null    float64\n",
      " 6   winddirection  365 non-null    float64\n",
      " 7   windspeed      365 non-null    float64\n",
      "dtypes: float64(5), int64(2), object(1)\n",
      "memory usage: 23.0+ KB\n"
     ]
    }
   ],
   "source": [
    "df.info()"
   ]
  },
  {
   "cell_type": "code",
   "execution_count": 79,
   "id": "6ce281f9-2120-4e04-bf38-cf4b40a90725",
   "metadata": {},
   "outputs": [],
   "source": [
    "from sklearn.impute import SimpleImputer"
   ]
  },
  {
   "cell_type": "code",
   "execution_count": 81,
   "id": "c9969a77-7d78-4a8b-a5fd-222c3b8564df",
   "metadata": {},
   "outputs": [],
   "source": [
    "from sklearn.compose import ColumnTransformer"
   ]
  },
  {
   "cell_type": "code",
   "execution_count": 83,
   "id": "a37d8bbc-baf6-45b5-bba9-491e9921af9f",
   "metadata": {},
   "outputs": [],
   "source": [
    "X = df.drop(columns = ['rainfall'] , axis  = 1)\n",
    "y = df['rainfall']"
   ]
  },
  {
   "cell_type": "code",
   "execution_count": 85,
   "id": "02d8a60a-ee94-44c6-9791-7ca0c2a59768",
   "metadata": {},
   "outputs": [],
   "source": [
    "numeric_features = X.columns"
   ]
  },
  {
   "cell_type": "code",
   "execution_count": 89,
   "id": "ed521509-52bc-4a1c-9ce4-c4950de3c769",
   "metadata": {},
   "outputs": [],
   "source": [
    "from sklearn.preprocessing import StandardScaler"
   ]
  },
  {
   "cell_type": "code",
   "execution_count": 87,
   "id": "737943ac-070b-4fdb-8585-3194af0ab8f7",
   "metadata": {},
   "outputs": [],
   "source": [
    "from sklearn.pipeline import Pipeline"
   ]
  },
  {
   "cell_type": "code",
   "execution_count": 90,
   "id": "a1895c08-7d1b-4c97-82b0-ffbc8991f4c2",
   "metadata": {},
   "outputs": [],
   "source": [
    "numeric_pipeline =Pipeline(\n",
    "    steps=[\n",
    "        ('imputer', SimpleImputer(strategy='mean')),   # fill NaN with mean\n",
    "        ('scaler', StandardScaler())  \n",
    "    ]\n",
    ")"
   ]
  },
  {
   "cell_type": "code",
   "execution_count": 92,
   "id": "e32e8ba3-fb03-4b7f-9a6d-844185388311",
   "metadata": {},
   "outputs": [],
   "source": [
    "processor = ColumnTransformer(\n",
    "    transformers = [\n",
    "        ('num' ,numeric_pipeline , numeric_features )\n",
    "    ]\n",
    ")"
   ]
  },
  {
   "cell_type": "code",
   "execution_count": 94,
   "id": "36ddd229-880e-4e67-85f9-ea5d5f5523c2",
   "metadata": {},
   "outputs": [
    {
     "name": "stdout",
     "output_type": "stream",
     "text": [
      "     pressure  dewpoint  humidity     cloud  sunshine  winddirection  \\\n",
      "0    1.897809 -1.150321 -0.813795 -1.016547  1.242193      -0.263887   \n",
      "1    1.289005 -0.732877  0.081842  0.545363 -0.972100      -0.631985   \n",
      "2    0.929967 -0.265339  1.475055  0.912872 -1.124810      -0.754684   \n",
      "3    0.805085 -0.198548  0.977479  0.775056 -0.870293      -0.631985   \n",
      "4    0.336774 -0.014873  1.475055  0.453486 -1.124810      -0.754684   \n",
      "..        ...       ...       ...       ...       ...            ...   \n",
      "361  1.398278 -0.833064  0.380387  0.866933 -1.124810      -0.877383   \n",
      "362  2.007081 -1.200415 -0.515250  0.637240 -0.870293      -1.000082   \n",
      "363  1.897809 -1.116926 -0.515250  0.315671  0.045966      -0.386586   \n",
      "364  1.804147 -1.116926 -0.216704  0.683179 -0.819390      -1.000082   \n",
      "365  1.975861 -1.167019 -0.614765 -0.235592  0.325934      -1.000082   \n",
      "\n",
      "     windspeed  \n",
      "0     0.474302  \n",
      "1    -0.621080  \n",
      "2    -0.730618  \n",
      "3    -0.461752  \n",
      "4    -0.780408  \n",
      "..         ...  \n",
      "361  -0.312382  \n",
      "362   0.434470  \n",
      "363   1.181321  \n",
      "364  -0.063431  \n",
      "365   0.175561  \n",
      "\n",
      "[366 rows x 7 columns]\n"
     ]
    }
   ],
   "source": [
    "# Step 4: Fit + Transform\n",
    "X_processed = processor.fit_transform(X)\n",
    "\n",
    "# Convert back to DataFrame\n",
    "X_processed = pd.DataFrame(X_processed, columns=numeric_features)\n",
    "\n",
    "print(X_processed)"
   ]
  }
 ],
 "metadata": {
  "kernelspec": {
   "display_name": "Python 3 (ipykernel)",
   "language": "python",
   "name": "python3"
  },
  "language_info": {
   "codemirror_mode": {
    "name": "ipython",
    "version": 3
   },
   "file_extension": ".py",
   "mimetype": "text/x-python",
   "name": "python",
   "nbconvert_exporter": "python",
   "pygments_lexer": "ipython3",
   "version": "3.13.5"
  }
 },
 "nbformat": 4,
 "nbformat_minor": 5
}
